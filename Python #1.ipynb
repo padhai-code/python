{
 "cells": [
  {
   "cell_type": "markdown",
   "metadata": {},
   "source": [
    "# Few Basics"
   ]
  },
  {
   "cell_type": "code",
   "execution_count": 1,
   "metadata": {},
   "outputs": [],
   "source": [
    "a=3"
   ]
  },
  {
   "cell_type": "code",
   "execution_count": 7,
   "metadata": {},
   "outputs": [],
   "source": [
    "b=\"hello\""
   ]
  },
  {
   "cell_type": "code",
   "execution_count": 3,
   "metadata": {},
   "outputs": [
    {
     "data": {
      "text/plain": [
       "3"
      ]
     },
     "execution_count": 3,
     "metadata": {},
     "output_type": "execute_result"
    }
   ],
   "source": [
    "a"
   ]
  },
  {
   "cell_type": "code",
   "execution_count": 8,
   "metadata": {},
   "outputs": [
    {
     "data": {
      "text/plain": [
       "'hello'"
      ]
     },
     "execution_count": 8,
     "metadata": {},
     "output_type": "execute_result"
    }
   ],
   "source": [
    "b"
   ]
  },
  {
   "cell_type": "markdown",
   "metadata": {},
   "source": [
    "# Print odd/even"
   ]
  },
  {
   "cell_type": "code",
   "execution_count": 13,
   "metadata": {},
   "outputs": [
    {
     "name": "stdout",
     "output_type": "stream",
     "text": [
      "odd\n"
     ]
    }
   ],
   "source": [
    "a=53\n",
    "if a%2==0:\n",
    "    print(\"even\")\n",
    "else:\n",
    "    print(\"odd\")"
   ]
  },
  {
   "cell_type": "markdown",
   "metadata": {},
   "source": [
    "# Print 1 to 10"
   ]
  },
  {
   "cell_type": "code",
   "execution_count": 17,
   "metadata": {},
   "outputs": [
    {
     "name": "stdout",
     "output_type": "stream",
     "text": [
      "1\n",
      "2\n",
      "3\n",
      "4\n",
      "5\n",
      "6\n",
      "7\n",
      "8\n",
      "9\n",
      "10\n"
     ]
    }
   ],
   "source": [
    "for i in range(10):\n",
    "    print(i+1)"
   ]
  },
  {
   "cell_type": "markdown",
   "metadata": {},
   "source": [
    "# Print all Even under 100 (including)"
   ]
  },
  {
   "cell_type": "code",
   "execution_count": 18,
   "metadata": {},
   "outputs": [
    {
     "name": "stdout",
     "output_type": "stream",
     "text": [
      "odd  1\n",
      "even  2\n",
      "odd  3\n",
      "even  4\n",
      "odd  5\n",
      "even  6\n",
      "odd  7\n",
      "even  8\n",
      "odd  9\n",
      "even  10\n",
      "odd  11\n",
      "even  12\n",
      "odd  13\n",
      "even  14\n",
      "odd  15\n",
      "even  16\n",
      "odd  17\n",
      "even  18\n",
      "odd  19\n",
      "even  20\n",
      "odd  21\n",
      "even  22\n",
      "odd  23\n",
      "even  24\n",
      "odd  25\n",
      "even  26\n",
      "odd  27\n",
      "even  28\n",
      "odd  29\n",
      "even  30\n",
      "odd  31\n",
      "even  32\n",
      "odd  33\n",
      "even  34\n",
      "odd  35\n",
      "even  36\n",
      "odd  37\n",
      "even  38\n",
      "odd  39\n",
      "even  40\n",
      "odd  41\n",
      "even  42\n",
      "odd  43\n",
      "even  44\n",
      "odd  45\n",
      "even  46\n",
      "odd  47\n",
      "even  48\n",
      "odd  49\n",
      "even  50\n",
      "odd  51\n",
      "even  52\n",
      "odd  53\n",
      "even  54\n",
      "odd  55\n",
      "even  56\n",
      "odd  57\n",
      "even  58\n",
      "odd  59\n",
      "even  60\n",
      "odd  61\n",
      "even  62\n",
      "odd  63\n",
      "even  64\n",
      "odd  65\n",
      "even  66\n",
      "odd  67\n",
      "even  68\n",
      "odd  69\n",
      "even  70\n",
      "odd  71\n",
      "even  72\n",
      "odd  73\n",
      "even  74\n",
      "odd  75\n",
      "even  76\n",
      "odd  77\n",
      "even  78\n",
      "odd  79\n",
      "even  80\n",
      "odd  81\n",
      "even  82\n",
      "odd  83\n",
      "even  84\n",
      "odd  85\n",
      "even  86\n",
      "odd  87\n",
      "even  88\n",
      "odd  89\n",
      "even  90\n",
      "odd  91\n",
      "even  92\n",
      "odd  93\n",
      "even  94\n",
      "odd  95\n",
      "even  96\n",
      "odd  97\n",
      "even  98\n",
      "odd  99\n",
      "even  100\n"
     ]
    }
   ],
   "source": [
    "for i in range(100):\n",
    "    if (i+1)%2==0:\n",
    "        print(\"even \",i+1)\n",
    "    else:\n",
    "        print(\"odd \",i+1)"
   ]
  },
  {
   "cell_type": "code",
   "execution_count": null,
   "metadata": {},
   "outputs": [],
   "source": []
  }
 ],
 "metadata": {
  "kernelspec": {
   "display_name": "Python 3",
   "language": "python",
   "name": "python3"
  },
  "language_info": {
   "codemirror_mode": {
    "name": "ipython",
    "version": 3
   },
   "file_extension": ".py",
   "mimetype": "text/x-python",
   "name": "python",
   "nbconvert_exporter": "python",
   "pygments_lexer": "ipython3",
   "version": "3.7.3"
  }
 },
 "nbformat": 4,
 "nbformat_minor": 2
}
